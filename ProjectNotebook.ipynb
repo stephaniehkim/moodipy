{
 "cells": [
  {
   "cell_type": "markdown",
   "metadata": {},
   "source": [
    "## Project Description: Moodipy"
   ]
  },
  {
   "cell_type": "markdown",
   "metadata": {},
   "source": [
    "Hi! \n",
    "\n",
    "Moodipy is a chatbot that allows you to either chat about or get a song recommendation based on your feelings. If you wanted to *give* a song recommendation instead of receiving one, the bot allows for that option as well. \n",
    "\n",
    "This chatbot was initially created based on the idea that music is a universal language that anyone can enjoy and relate to. Regardless of what your mood is, whether you are happy, sad, or just bored, there is a suitable song out there for you! I enjoy finding new music for myself and my loved ones, and thought it would be a fun project to convey that interest through a chatbot. \n",
    "\n",
    "Come check out moodipy!\n",
    "\n",
    "[We're on Github!](https://github.com/stephaniehkim/moodipy)"
   ]
  },
  {
   "cell_type": "markdown",
   "metadata": {},
   "source": [
    "## Project Code"
   ]
  },
  {
   "cell_type": "markdown",
   "metadata": {},
   "source": [
    "### Imports\n",
    "\n",
    "Import the appropriate modules.\n",
    "\n",
    "- moodipy.functions contains all the functions necessary to handle music URLs and chat\n",
    "- moodipy.responses contains the lists of strings necessary to make the chatbot work\n",
    "- moodipy.songs contains all the song URLs and appropriately named variable names\n",
    "- moodipy.test_functions tests all the aforementioned functions"
   ]
  },
  {
   "cell_type": "code",
   "execution_count": 1,
   "metadata": {},
   "outputs": [],
   "source": [
    "import random\n",
    "import string\n",
    "import moodipy.functions as moodipy\n",
    "from moodipy.songs import *\n",
    "from moodipy.responses import * \n",
    "from moodipy.test_functions import test_all"
   ]
  },
  {
   "cell_type": "markdown",
   "metadata": {},
   "source": [
    "### Tests\n",
    "We run our comprehensive test suite by calling test_all, as well as pytest (which should give return code 0). Please make sure you have pytest installed! It is included in our requirements.txt, but please ensure it is installed using the command\n",
    "\n",
    "`pip freeze | grep pytest`\n",
    "\n",
    "or replace pip with pip3 if that is what you use.\n",
    "\n",
    "For more information about specific test functions, check out moodipy.test_functions"
   ]
  },
  {
   "cell_type": "code",
   "execution_count": 2,
   "metadata": {
    "scrolled": true
   },
   "outputs": [
    {
     "data": {
      "text/plain": [
       "CompletedProcess(args=['pytest'], returncode=0)"
      ]
     },
     "execution_count": 2,
     "metadata": {},
     "output_type": "execute_result"
    }
   ],
   "source": [
    "# Run all the tests in moodipy.tests\n",
    "test_all()\n",
    "\n",
    "# We can also run pytest here\n",
    "import subprocess\n",
    "subprocess.run([\"pytest\"])"
   ]
  },
  {
   "cell_type": "markdown",
   "metadata": {},
   "source": [
    "### Have a chat!\n",
    "\n",
    "Here, we define the functionality of have_a_chat, which will serve as our main function. A user-defined function is called almost every line of code, so our function mantains modularity and readability."
   ]
  },
  {
   "cell_type": "code",
   "execution_count": 3,
   "metadata": {},
   "outputs": [],
   "source": [
    "### Code modified from assignment A3 - Chatbots\n",
    "def have_a_chat():\n",
    "    \"\"\"Main function to run our chatbot\"\"\"\n",
    "    \n",
    "    chat = True \n",
    "    while chat: \n",
    "        \n",
    "        # Get a message from the user\n",
    "        msg = input('Hi! Do you want to chat or get a song suggestion?\\t')\n",
    "        out_msg = None\n",
    "        \n",
    "        # Prepare the input message \n",
    "        msg = moodipy.prepare_text(msg)\n",
    "        \n",
    "        # Check for an end msg\n",
    "        if moodipy.end_chat(msg):\n",
    "            out_msg = 'Bye!'\n",
    "            chat = False \n",
    "            \n",
    "        # Check for a selection of topics that we have defined to respond to\n",
    "        if not out_msg:\n",
    "              \n",
    "            # See if user wants to chat. Otherwise, assume song suggestion.\n",
    "            wants_suggestion = not moodipy.is_in_list(msg, CHAT_WORDS)\n",
    "            \n",
    "            #Handle song suggestion\n",
    "            if wants_suggestion:\n",
    "                msg = moodipy.input_with_msg(question='How are you feeling right now?')\n",
    "\n",
    "                # How the user is feeling.\n",
    "                user_mood = moodipy.check_in_map_lists(msg, MOOD_MAP)\n",
    "\n",
    "                if user_mood != '':\n",
    "                    print('Here is your song: ', moodipy.pick_song(user_mood))\n",
    "\n",
    "                else:\n",
    "                    # Ask if they want to add a song\n",
    "                    msg = input('Hmmmm... I can\\'t seem to find that. Would you like to add a song?\\t')\n",
    "                    msg = moodipy.prepare_text(msg)\n",
    "\n",
    "                    if moodipy.is_in_list(msg, YES_IN):\n",
    "                        user_mood = moodipy.input_with_msg(question='What mood is your song for?')\n",
    "                        # Just get the first item.\n",
    "                        user_mood = user_mood[0]\n",
    "                        song = moodipy.input_with_msg(question='What song would you like to add?')\n",
    "\n",
    "                        # If the mood they select is already in our map, just add it to that one.\n",
    "                        mood = moodipy.check_in_map_lists([user_mood], MOOD_MAP)\n",
    "                        if mood != '':\n",
    "                            moodipy.add_song(mood, song[0])\n",
    "                        # If the mood is not already in the map, add mood to the map. \n",
    "                        else:\n",
    "                            moodipy.add_song(user_mood, song[0])\n",
    "                            # Also, update MOOD_MAP to include the new mood.\n",
    "                            MOOD_MAP[user_mood] = list()\n",
    "                            MOOD_MAP[user_mood].append(user_mood)\n",
    "\n",
    "                        print('Song added!')\n",
    "            else:\n",
    "                # Handle chat\n",
    "                msg = input('Let\\'s Chat! How are you feeling right now?\\t') \n",
    "                msg = moodipy.prepare_text(msg)\n",
    "                out_msg = None\n",
    "                \n",
    "                # Initialize to collect a list of possible outputs\n",
    "                outs = []\n",
    "                \n",
    "                # Check if the input looks like one of the positive moods, add a positive output if so\n",
    "                outs.append(moodipy.selector(msg, POS_IN, POS_OUT))\n",
    "                \n",
    "                # Check if the input looks like one of the negative moods, add a negative output if so\n",
    "                outs.append(moodipy.selector(msg, NEG_IN, NEG_OUT))\n",
    "                \n",
    "                # Randomly select an output from the set of outputs that are not None\n",
    "                options = list(filter(None, outs))\n",
    "                if options:\n",
    "                    out_msg = random.choice(options)\n",
    "                    \n",
    "                # Catch-all to say something if msg not caught & processed so far\n",
    "                if not out_msg:\n",
    "                    out_msg = random.choice(RANDOM_OUT)\n",
    "                    \n",
    "                print('OUTPUT:', out_msg)"
   ]
  },
  {
   "cell_type": "markdown",
   "metadata": {},
   "source": [
    "### ACTUALLY have a chat.\n",
    "\n",
    "Here, we call have a chat. When this cell is run, the program will start. For a list of moods that are accepted by default, check out moodipy.responses"
   ]
  },
  {
   "cell_type": "code",
   "execution_count": null,
   "metadata": {},
   "outputs": [],
   "source": [
    "have_a_chat()"
   ]
  },
  {
   "cell_type": "code",
   "execution_count": null,
   "metadata": {},
   "outputs": [],
   "source": []
  }
 ],
 "metadata": {
  "kernelspec": {
   "display_name": "Python 3",
   "language": "python",
   "name": "python3"
  },
  "language_info": {
   "codemirror_mode": {
    "name": "ipython",
    "version": 3
   },
   "file_extension": ".py",
   "mimetype": "text/x-python",
   "name": "python",
   "nbconvert_exporter": "python",
   "pygments_lexer": "ipython3",
   "version": "3.7.3"
  }
 },
 "nbformat": 4,
 "nbformat_minor": 2
}
